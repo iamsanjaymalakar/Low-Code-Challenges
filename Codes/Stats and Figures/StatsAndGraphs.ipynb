{
 "metadata": {
  "language_info": {
   "codemirror_mode": {
    "name": "ipython",
    "version": 3
   },
   "file_extension": ".py",
   "mimetype": "text/x-python",
   "name": "python",
   "nbconvert_exporter": "python",
   "pygments_lexer": "ipython3",
   "version": "3.9.1-final"
  },
  "orig_nbformat": 2,
  "kernelspec": {
   "name": "python3",
   "display_name": "Python 3",
   "language": "python"
  }
 },
 "nbformat": 4,
 "nbformat_minor": 2,
 "cells": [
  {
   "cell_type": "code",
   "execution_count": 1,
   "metadata": {},
   "outputs": [],
   "source": [
    "import pandas as pd\n",
    "import matplotlib.pyplot as plt\n",
    "from matplotlib.dates import DateFormatter\n",
    "%matplotlib inline\n"
   ]
  },
  {
   "cell_type": "code",
   "execution_count": 2,
   "metadata": {},
   "outputs": [],
   "source": [
    "TAGS = ['salesforce-lightning', 'lwc', 'lightning', 'salesforce-communities',\n",
    "        'salesforce-chatter', 'salesforce-service-cloud', 'aura-framework', 'appian',\n",
    "        'outsystems', 'google-app-maker', 'zoho', 'mendix', 'powerapps', 'powerapps-formula',\n",
    "        'powerapps-selected-items', 'powerapps-collection', 'powerapps-canvas', 'quickbase', 'vinyl']\n",
    "\n",
    "PLATFORMS = {\n",
    "    'Salesforce' : ['salesforce-lightning', 'lwc', 'lightning', 'salesforce-communities',\n",
    "        'salesforce-chatter', 'salesforce-service-cloud', 'aura-framework'],\n",
    "    'Appian' : ['appian'],\n",
    "    'Outsystems' : ['outsystems'],\n",
    "    'AppMaker' : ['google-app-maker'],\n",
    "    'Zoho' : ['zoho'],\n",
    "    'Mendix' : ['mendix'],\n",
    "    'PowerApps' : ['powerapps', 'powerapps-formula',\n",
    "        'powerapps-selected-items', 'powerapps-collection', 'powerapps-canvas'],\n",
    "    'QuickBase' : ['quickbase'],\n",
    "    'Vinyl' : ['vinyl']\n",
    "} "
   ]
  },
  {
   "cell_type": "code",
   "execution_count": 3,
   "metadata": {},
   "outputs": [
    {
     "output_type": "execute_result",
     "data": {
      "text/plain": [
       "Id                                     int64\n",
       "PostTypeId                             int64\n",
       "AcceptedAnswerId                     float64\n",
       "ParentId                             float64\n",
       "CreationDate                  datetime64[ns]\n",
       "DeletionDate                         float64\n",
       "Score                                  int64\n",
       "ViewCount                              int64\n",
       "Body                                  object\n",
       "OwnerUserId                          float64\n",
       "OwnerDisplayName                      object\n",
       "LastEditorUserId                     float64\n",
       "LastEditorDisplayName                 object\n",
       "LastEditDate                          object\n",
       "LastActivityDate                      object\n",
       "Title                                 object\n",
       "Tags                                  object\n",
       "AnswerCount                            int64\n",
       "CommentCount                           int64\n",
       "FavoriteCount                        float64\n",
       "ClosedDate                            object\n",
       "CommunityOwnedDate                   float64\n",
       "ContentLicense                        object\n",
       "AcceptedAnswer                        object\n",
       "AcceptedAnswerCreationDate    datetime64[ns]\n",
       "dtype: object"
      ]
     },
     "metadata": {},
     "execution_count": 3
    }
   ],
   "source": [
    "so_df = pd.read_csv('so_data.csv')\n",
    "so_df.CreationDate = so_df.CreationDate.apply(pd.to_datetime)\n",
    "so_df.AcceptedAnswerCreationDate = so_df.AcceptedAnswerCreationDate.apply(pd.to_datetime)\n",
    "so_df.dtypes"
   ]
  },
  {
   "cell_type": "code",
   "execution_count": 4,
   "metadata": {},
   "outputs": [
    {
     "output_type": "execute_result",
     "data": {
      "text/plain": [
       "Id                                int64\n",
       "PostTypeId                        int64\n",
       "AcceptedAnswerId                float64\n",
       "ParentId                          int64\n",
       "CreationDate             datetime64[ns]\n",
       "DeletionDate                    float64\n",
       "Score                             int64\n",
       "ViewCount                       float64\n",
       "Body                             object\n",
       "OwnerUserId                     float64\n",
       "OwnerDisplayName                 object\n",
       "LastEditorUserId                float64\n",
       "LastEditorDisplayName            object\n",
       "LastEditDate                     object\n",
       "LastActivityDate                 object\n",
       "Title                           float64\n",
       "Tags                            float64\n",
       "AnswerCount                     float64\n",
       "CommentCount                      int64\n",
       "FavoriteCount                   float64\n",
       "ClosedDate                      float64\n",
       "CommunityOwnedDate              float64\n",
       "ContentLicense                   object\n",
       "dtype: object"
      ]
     },
     "metadata": {},
     "execution_count": 4
    }
   ],
   "source": [
    "so_ans_df = so_df = pd.read_csv('AllAnswers.csv')\n",
    "so_ans_df.CreationDate = so_ans_df.CreationDate.apply(pd.to_datetime)\n",
    "so_ans_df.dtypes"
   ]
  },
  {
   "cell_type": "code",
   "execution_count": 9,
   "metadata": {},
   "outputs": [
    {
     "output_type": "stream",
     "name": "stdout",
     "text": [
      "2008-12-11 15:32:59.553000\n"
     ]
    },
    {
     "output_type": "execute_result",
     "data": {
      "text/plain": [
       "       Id  PostTypeId  AcceptedAnswerId  ParentId            CreationDate  \\\n",
       "0  359725           2               NaN    359717 2008-12-11 15:32:59.553   \n",
       "1  359734           2               NaN    359717 2008-12-11 15:34:37.553   \n",
       "2  544115           2               NaN    544097 2009-02-12 23:54:49.217   \n",
       "3  544146           2               NaN    544097 2009-02-13 00:03:32.393   \n",
       "4  544181           2               NaN    544097 2009-02-13 00:16:34.500   \n",
       "\n",
       "   DeletionDate  Score  ViewCount  \\\n",
       "0           NaN      4        NaN   \n",
       "1           NaN      0        NaN   \n",
       "2           NaN      0        NaN   \n",
       "3           NaN      0        NaN   \n",
       "4           NaN      2        NaN   \n",
       "\n",
       "                                                Body  OwnerUserId  ...  \\\n",
       "0  <p><a href=\"http://learn.iis.net/\" rel=\"nofoll...      17516.0  ...   \n",
       "1  <p>The one I've found really helpful is <a hre...          NaN  ...   \n",
       "2  <p>Maybe I'm missing something but what's wron...       9611.0  ...   \n",
       "3  <p>Would have to be a very bright light to mak...      65823.0  ...   \n",
       "4  <p>You could maybe adapt the code from <a href...      43427.0  ...   \n",
       "\n",
       "              LastEditDate         LastActivityDate Title Tags AnswerCount  \\\n",
       "0                      NaN  2008-12-11T15:32:59.553   NaN  NaN         NaN   \n",
       "1  2008-12-11T16:03:36.123  2008-12-11T16:03:36.123   NaN  NaN         NaN   \n",
       "2                      NaN  2009-02-12T23:54:49.217   NaN  NaN         NaN   \n",
       "3                      NaN  2009-02-13T00:03:32.393   NaN  NaN         NaN   \n",
       "4  2009-02-13T00:50:01.987  2009-02-13T00:50:01.987   NaN  NaN         NaN   \n",
       "\n",
       "   CommentCount  FavoriteCount  ClosedDate  CommunityOwnedDate  ContentLicense  \n",
       "0             0            NaN         NaN                 NaN    CC BY-SA 2.5  \n",
       "1             0            NaN         NaN                 NaN    CC BY-SA 2.5  \n",
       "2             2            NaN         NaN                 NaN    CC BY-SA 2.5  \n",
       "3             0            NaN         NaN                 NaN    CC BY-SA 2.5  \n",
       "4             1            NaN         NaN                 NaN    CC BY-SA 2.5  \n",
       "\n",
       "[5 rows x 23 columns]"
      ],
      "text/html": "<div>\n<style scoped>\n    .dataframe tbody tr th:only-of-type {\n        vertical-align: middle;\n    }\n\n    .dataframe tbody tr th {\n        vertical-align: top;\n    }\n\n    .dataframe thead th {\n        text-align: right;\n    }\n</style>\n<table border=\"1\" class=\"dataframe\">\n  <thead>\n    <tr style=\"text-align: right;\">\n      <th></th>\n      <th>Id</th>\n      <th>PostTypeId</th>\n      <th>AcceptedAnswerId</th>\n      <th>ParentId</th>\n      <th>CreationDate</th>\n      <th>DeletionDate</th>\n      <th>Score</th>\n      <th>ViewCount</th>\n      <th>Body</th>\n      <th>OwnerUserId</th>\n      <th>...</th>\n      <th>LastEditDate</th>\n      <th>LastActivityDate</th>\n      <th>Title</th>\n      <th>Tags</th>\n      <th>AnswerCount</th>\n      <th>CommentCount</th>\n      <th>FavoriteCount</th>\n      <th>ClosedDate</th>\n      <th>CommunityOwnedDate</th>\n      <th>ContentLicense</th>\n    </tr>\n  </thead>\n  <tbody>\n    <tr>\n      <th>0</th>\n      <td>359725</td>\n      <td>2</td>\n      <td>NaN</td>\n      <td>359717</td>\n      <td>2008-12-11 15:32:59.553</td>\n      <td>NaN</td>\n      <td>4</td>\n      <td>NaN</td>\n      <td>&lt;p&gt;&lt;a href=\"http://learn.iis.net/\" rel=\"nofoll...</td>\n      <td>17516.0</td>\n      <td>...</td>\n      <td>NaN</td>\n      <td>2008-12-11T15:32:59.553</td>\n      <td>NaN</td>\n      <td>NaN</td>\n      <td>NaN</td>\n      <td>0</td>\n      <td>NaN</td>\n      <td>NaN</td>\n      <td>NaN</td>\n      <td>CC BY-SA 2.5</td>\n    </tr>\n    <tr>\n      <th>1</th>\n      <td>359734</td>\n      <td>2</td>\n      <td>NaN</td>\n      <td>359717</td>\n      <td>2008-12-11 15:34:37.553</td>\n      <td>NaN</td>\n      <td>0</td>\n      <td>NaN</td>\n      <td>&lt;p&gt;The one I've found really helpful is &lt;a hre...</td>\n      <td>NaN</td>\n      <td>...</td>\n      <td>2008-12-11T16:03:36.123</td>\n      <td>2008-12-11T16:03:36.123</td>\n      <td>NaN</td>\n      <td>NaN</td>\n      <td>NaN</td>\n      <td>0</td>\n      <td>NaN</td>\n      <td>NaN</td>\n      <td>NaN</td>\n      <td>CC BY-SA 2.5</td>\n    </tr>\n    <tr>\n      <th>2</th>\n      <td>544115</td>\n      <td>2</td>\n      <td>NaN</td>\n      <td>544097</td>\n      <td>2009-02-12 23:54:49.217</td>\n      <td>NaN</td>\n      <td>0</td>\n      <td>NaN</td>\n      <td>&lt;p&gt;Maybe I'm missing something but what's wron...</td>\n      <td>9611.0</td>\n      <td>...</td>\n      <td>NaN</td>\n      <td>2009-02-12T23:54:49.217</td>\n      <td>NaN</td>\n      <td>NaN</td>\n      <td>NaN</td>\n      <td>2</td>\n      <td>NaN</td>\n      <td>NaN</td>\n      <td>NaN</td>\n      <td>CC BY-SA 2.5</td>\n    </tr>\n    <tr>\n      <th>3</th>\n      <td>544146</td>\n      <td>2</td>\n      <td>NaN</td>\n      <td>544097</td>\n      <td>2009-02-13 00:03:32.393</td>\n      <td>NaN</td>\n      <td>0</td>\n      <td>NaN</td>\n      <td>&lt;p&gt;Would have to be a very bright light to mak...</td>\n      <td>65823.0</td>\n      <td>...</td>\n      <td>NaN</td>\n      <td>2009-02-13T00:03:32.393</td>\n      <td>NaN</td>\n      <td>NaN</td>\n      <td>NaN</td>\n      <td>0</td>\n      <td>NaN</td>\n      <td>NaN</td>\n      <td>NaN</td>\n      <td>CC BY-SA 2.5</td>\n    </tr>\n    <tr>\n      <th>4</th>\n      <td>544181</td>\n      <td>2</td>\n      <td>NaN</td>\n      <td>544097</td>\n      <td>2009-02-13 00:16:34.500</td>\n      <td>NaN</td>\n      <td>2</td>\n      <td>NaN</td>\n      <td>&lt;p&gt;You could maybe adapt the code from &lt;a href...</td>\n      <td>43427.0</td>\n      <td>...</td>\n      <td>2009-02-13T00:50:01.987</td>\n      <td>2009-02-13T00:50:01.987</td>\n      <td>NaN</td>\n      <td>NaN</td>\n      <td>NaN</td>\n      <td>1</td>\n      <td>NaN</td>\n      <td>NaN</td>\n      <td>NaN</td>\n      <td>CC BY-SA 2.5</td>\n    </tr>\n  </tbody>\n</table>\n<p>5 rows × 23 columns</p>\n</div>"
     },
     "metadata": {},
     "execution_count": 9
    }
   ],
   "source": [
    "print(so_df.sort_values(by='CreationDate').iloc[0].CreationDate)\n",
    "so_df.sort_values(by='CreationDate').head(5)"
   ]
  },
  {
   "source": [
    "# Stats per tag"
   ],
   "cell_type": "markdown",
   "metadata": {}
  },
  {
   "cell_type": "code",
   "execution_count": null,
   "metadata": {},
   "outputs": [],
   "source": [
    "sum = 0\n",
    "no_of_questions = []\n",
    "avg_view_count = []\n",
    "avg_fav_count = []\n",
    "for tag in TAGS:\n",
    "    indicesToRemove = []\n",
    "    for i in range(len(so_df)):\n",
    "        qtags = so_df.iloc[i]['Tags'][1:-1].replace('><', ' ').split()\n",
    "        f = True\n",
    "        for qtag in qtags:\n",
    "            if qtag == tag:\n",
    "                f = False\n",
    "                break\n",
    "        if f:\n",
    "            indicesToRemove.append(i)\n",
    "    temp_df = so_df.drop(index=indicesToRemove)\n",
    "    no_of_questions.append(len(temp_df))\n",
    "    avg_view_count.append(temp_df.ViewCount.mean())\n",
    "    avg_fav_count.append(temp_df.FavoriteCount.mean())\n",
    "    sum += len(temp_df)\n",
    "print(sum)\n",
    "df = pd.DataFrame()\n",
    "df['Tag_Name'] = TAGS\n",
    "df['Num_of_Questions'] = no_of_questions\n",
    "df['Avg_View_Count'] = avg_view_count\n",
    "df['Avg_Fav_Count'] = avg_fav_count\n",
    "df.to_csv('StatsPerTag.csv', index= False)\n",
    "df"
   ]
  },
  {
   "source": [
    "# Stats per platform"
   ],
   "cell_type": "markdown",
   "metadata": {}
  },
  {
   "cell_type": "code",
   "execution_count": null,
   "metadata": {},
   "outputs": [],
   "source": [
    "sum = 0\n",
    "no_of_questions = []\n",
    "no_of_accepted_answers = []\n",
    "avg_view_count = []\n",
    "avg_fav_count = []\n",
    "avg_score = []\n",
    "for platform in PLATFORMS:\n",
    "    indicesToRemove = []\n",
    "    for i in range(len(so_df)):\n",
    "        qtags = so_df.iloc[i]['Tags'][1:-1].replace('><', ' ').split()\n",
    "        f = True\n",
    "        for qtag in qtags:\n",
    "            for ptag in PLATFORMS[platform]:\n",
    "                if qtag == ptag:\n",
    "                    f = False\n",
    "                    break\n",
    "        if f:\n",
    "            indicesToRemove.append(i)\n",
    "    temp_df = so_df.drop(index=indicesToRemove)\n",
    "    no_of_questions.append(len(temp_df))\n",
    "    no_of_accepted_answers.append(temp_df.AcceptedAnswer.count())\n",
    "    avg_view_count.append(temp_df.ViewCount.mean())\n",
    "    avg_fav_count.append(temp_df.FavoriteCount.mean())\n",
    "    avg_score.append(temp_df.Score.mean())\n",
    "    sum += len(temp_df)\n",
    "print(sum)\n",
    "df = pd.DataFrame()\n",
    "df['Platform'] = PLATFORMS.keys()\n",
    "df['Num_of_Questions'] = no_of_questions\n",
    "df['Num_of_Accepted_Answers'] = no_of_accepted_answers\n",
    "df['Avg_View_Count'] = avg_view_count\n",
    "df['Avg_Fav_Count'] = avg_fav_count\n",
    "df['Avg_Score'] = avg_score\n",
    "df.to_csv('StatsPerPlatform.csv', index= False)\n",
    "df"
   ]
  },
  {
   "source": [
    "# Platform related figures"
   ],
   "cell_type": "markdown",
   "metadata": {}
  },
  {
   "cell_type": "code",
   "execution_count": null,
   "metadata": {},
   "outputs": [],
   "source": [
    "SAMPLING = '3M'\n",
    "DUMMY_DATE = pd.to_datetime('2008-11-27 18:18:37.777')\n",
    "\n",
    "final_df = so_df.resample(SAMPLING, on=\"CreationDate\").count()[['Id']]\n",
    "final_df.columns = ['Total']\n",
    "for platform in PLATFORMS:\n",
    "    indicesToRemove = []\n",
    "    for i in range(len(so_df)):\n",
    "        # if so_df.iloc[i]['CreationDate'] == DUMMY_DATE:\n",
    "        #     continue\n",
    "        qtags = so_df.iloc[i]['Tags'][1:-1].replace('><', ' ').split()\n",
    "        f = True\n",
    "        for qtag in qtags:\n",
    "            for ptag in PLATFORMS[platform]:\n",
    "                if qtag == ptag:\n",
    "                    f = False\n",
    "                    break\n",
    "        if f:\n",
    "            indicesToRemove.append(i)\n",
    "    temp_df = so_df.drop(index=indicesToRemove)\n",
    "    # dummy date for resampling start\n",
    "    temp_df = temp_df.append(pd.Series(data=[DUMMY_DATE], index = ['CreationDate']), ignore_index=True)\n",
    "    temp_df = temp_df.resample(SAMPLING, on = \"CreationDate\").count()[['Id']]\n",
    "    temp_df.columns = [platform]\n",
    "    final_df = final_df.merge(temp_df, how='left', on='CreationDate', validate='one_to_one')\n",
    "\n",
    "final_df.fillna(0, inplace=True)\n",
    "final_df = final_df.astype('int64')\n",
    "# final_df.to_csv('trend.csv')\n",
    "\n",
    "# integrity check\n",
    "for i in range(len(final_df)):\n",
    "    sum = 0\n",
    "    for platform in PLATFORMS:\n",
    "        sum += final_df.iloc[i][platform]\n",
    "    if(final_df.iloc[i].Total != sum):\n",
    "        print('Failed')\n",
    "\n",
    "print(len(final_df))\n",
    "final_df"
   ]
  },
  {
   "cell_type": "code",
   "execution_count": null,
   "metadata": {},
   "outputs": [],
   "source": [
    "final_df.drop(columns='Total').plot(figsize=(10,6))\n",
    "plt.xlabel('Year')\n",
    "plt.ylabel('# of Questions')\n",
    "plt.grid()\n",
    "plt.savefig('platform_Per_Three_Month.png', dpi=1000)\n",
    "plt.show()"
   ]
  },
  {
   "cell_type": "code",
   "execution_count": null,
   "metadata": {},
   "outputs": [],
   "source": [
    "final_df.plot(figsize=(10,6))\n",
    "plt.xlabel('Year')\n",
    "plt.ylabel('# of Questions')\n",
    "plt.grid()\n",
    "plt.savefig('platform_Per_Three_Month_With_Total.png', dpi=1000)\n",
    "plt.show()"
   ]
  },
  {
   "source": [
    "# Topic modeling related figures"
   ],
   "cell_type": "markdown",
   "metadata": {}
  },
  {
   "cell_type": "code",
   "execution_count": 5,
   "metadata": {},
   "outputs": [],
   "source": [
    "TOPIC_ID_LOW_CATEGORY = {\n",
    "    0 : 'Data Storage & Migration',\n",
    "    1 : 'Dynamic Form Controller',\n",
    "    2 : 'Access Control & Security',\n",
    "    3 : 'SQL CRUD',\n",
    "    4 :\t'Entity Relationship Management',\n",
    "    5 : 'UI Adaptation',\n",
    "    6 :\t'External Web Req Processing',\n",
    "    7 :\t'External API & Email Config',\n",
    "    8 :\t'Dynamic Content Binding',\n",
    "    9 : 'Cloud and On-Prem Conf',\n",
    "    10 : 'Dynamic Content Display',\n",
    "    11 : 'Client Server Comm & IO',\n",
    "    12 : 'Dynamic Event Handling'\n",
    "}\n",
    "\n",
    "TOPIC_ID_SUB_CATEGORY = {\n",
    "    0 : 'Migration',\n",
    "    1 : 'UI',\n",
    "    2 : 'Configuration',\n",
    "    3 : 'Management',\n",
    "    4 :\t'Management',\n",
    "    5 : 'UI',\n",
    "    6 :\t'',\n",
    "    7 :\t'',\n",
    "    8 :\t'Middleware',\n",
    "    9 : 'Configuration',\n",
    "    10 : 'Middleware',\n",
    "    11 : '',\n",
    "    12 : 'Middleware'\n",
    "}\n",
    "\n",
    "TOPIC_ID_HIGHER_CATEGORY = {\n",
    "    0 : 'Database',\n",
    "    1 : 'Customization',\n",
    "    2 : 'Adoption',\n",
    "    3 : 'Database',\n",
    "    4 :\t'Database',\n",
    "    5 : 'Customization',\n",
    "    6 :\t'Integration',\n",
    "    7 :\t'Integration',\n",
    "    8 :\t'Customization',\n",
    "    9 : 'Adoption',\n",
    "    10 : 'Customization',\n",
    "    11 : 'Adoption',\n",
    "    12 : 'Customization'\n",
    "}\n",
    "\n",
    "HIGHER_CAT_TO_TOPIC_ID = {\n",
    "    'Database' : [0, 3, 4],\n",
    "    'Customization' : [1, 5, 8, 10, 12],\n",
    "    'Adoption' : [2, 9, 11],\n",
    "    'Integration' : [6, 7]\n",
    "}"
   ]
  },
  {
   "cell_type": "code",
   "execution_count": 11,
   "metadata": {},
   "outputs": [],
   "source": [
    "def linkToId(x):\n",
    "    '''\n",
    "    Takes a excel styled link and retures the QuestionID\n",
    "    '''\n",
    "    return int(x.split('\"')[::-1][1])\n",
    "\n",
    "\n",
    "def make_link(id, type):\n",
    "    '''\n",
    "    returns stackoverflow url string of question/answer in hyperlink format for CSV/EXCEL\n",
    "    id = postid\n",
    "    type : 'q' for question\n",
    "           'a' for answer\n",
    "    '''\n",
    "    url = f'https://stackoverflow.com/{type}/{id}'\n",
    "    return f'=HYPERLINK(\"{url}\", \"{id}\")'"
   ]
  },
  {
   "cell_type": "code",
   "execution_count": null,
   "metadata": {
    "tags": []
   },
   "outputs": [],
   "source": [
    "SAMPLING = '6M'\n",
    "DUMMY_DATE = pd.to_datetime('2008-11-27 18:18:37.777')\n",
    "\n",
    "final_df = so_df.resample(SAMPLING, on='CreationDate').count()[['Id']]\n",
    "final_df.columns = ['Total']\n",
    "for category in HIGHER_CAT_TO_TOPIC_ID:\n",
    "    idsToRetain = []\n",
    "    for topic_id in HIGHER_CAT_TO_TOPIC_ID[category]:\n",
    "        temp_df = pd.read_csv(f'./TopicToPost/{topic_id}/Questions.csv')\n",
    "        idsToRetain.extend(temp_df.link.apply(linkToId).tolist())\n",
    "    temp_df = so_df[so_df['Id'].isin(idsToRetain)]\n",
    "    # dummy date for resampling start\n",
    "    temp_df = temp_df.append(pd.Series(data=[DUMMY_DATE], index = ['CreationDate']), ignore_index=True)\n",
    "    temp_df = temp_df.resample(SAMPLING, on = 'CreationDate').count()[['Id']]\n",
    "    temp_df.columns = [category]\n",
    "    final_df = final_df.merge(temp_df, how='left', on='CreationDate', validate='one_to_one')\n",
    "\n",
    "final_df.fillna(0, inplace=True)\n",
    "final_df = final_df.astype('int64')\n",
    "# final_df.to_csv(f'TopicModelingTrend_HighLevel_Sampling({SAMPLING}).csv')\n",
    "\n",
    "# integrity check\n",
    "for i in range(len(final_df)):\n",
    "    sum = 0\n",
    "    for category in HIGHER_CAT_TO_TOPIC_ID:\n",
    "        sum += final_df.iloc[i][category]\n",
    "    if(final_df.iloc[i].Total != sum):\n",
    "        print('Failed')\n",
    "        \n",
    "print(len(final_df))\n",
    "final_df"
   ]
  },
  {
   "cell_type": "code",
   "execution_count": null,
   "metadata": {},
   "outputs": [],
   "source": [
    "ax = final_df.drop(columns='Total').plot(figsize=(10,6))\n",
    "plt.xlabel('Year')\n",
    "plt.ylabel('# of Questions')\n",
    "\n",
    "ax.set_xticklabels([x.strftime(\"%Y-%m\") for x in final_df.index], rotation=45)\n",
    "plt.grid()\n",
    "ax.set_xticklabels(['xyz 2009','xyz 2011','xyz 2013','xyz 2015','xyz 2017','xyz 2019'], rotation=0)\n",
    "plt.savefig('Topic_Modeling_Higher_Cat_Per_Six_Month.png', dpi=1000)\n",
    "plt.show()"
   ]
  },
  {
   "cell_type": "code",
   "execution_count": null,
   "metadata": {},
   "outputs": [],
   "source": [
    "final_df.plot(figsize=(10,6))\n",
    "plt.xlabel('Year')\n",
    "plt.ylabel('# of Questions')\n",
    "plt.grid()\n",
    "plt.savefig('Topic_Modeling_Higher_Cat_Per_Six_Month_With_Total.png', dpi=1000)\n",
    "plt.show()"
   ]
  },
  {
   "source": [
    "# Topic Modeling Stats\n",
    "\n",
    "Gias:   Create   a   table   with   the   followingcolumns:  \n",
    "- Topic  Category,  \n",
    "- Topic  Name,\n",
    "-  Posts  (two  columns):\n",
    "    - Number  and  \n",
    "    - Percentage  of  Posts\n",
    "- Popularity  score  (threecolumns) \n",
    "    - Avg View, \n",
    "    - Avg Favorite,\n",
    "    - Avg Score,\n",
    "- Difficulty Score\n",
    "    - Pct Questions without  an accepted answer\n",
    "    - Median hours to get  an  accepted  answer  per  question"
   ],
   "cell_type": "markdown",
   "metadata": {}
  },
  {
   "cell_type": "code",
   "execution_count": null,
   "metadata": {},
   "outputs": [],
   "source": []
  },
  {
   "cell_type": "code",
   "execution_count": 39,
   "metadata": {},
   "outputs": [
    {
     "output_type": "execute_result",
     "data": {
      "text/plain": [
       "    Topic_ID                      Topic_Name  Number_of_Posts(Q+A)  \\\n",
       "0          0        Data Storage & Migration                   315   \n",
       "1          1         Dynamic Form Controller                   407   \n",
       "2          2       Access Control & Security                   386   \n",
       "3          3                        SQL CRUD                   383   \n",
       "4          4  Entity Relationship Management                   324   \n",
       "5          5                   UI Adaptation                   328   \n",
       "6          6     External Web Req Processing                   473   \n",
       "7          7     External API & Email Config                   285   \n",
       "8          8         Dynamic Content Binding                   325   \n",
       "9          9          Cloud and On-Prem Conf                   349   \n",
       "10        10         Dynamic Content Display                   434   \n",
       "11        11         Client Server Comm & IO                   351   \n",
       "12        12          Dynamic Event Handling                   425   \n",
       "\n",
       "    Percentage_of_Posts  Averege_View  AVerege_Favorite  Averege_Score  \\\n",
       "0                  6.58        472.83              1.07           0.60   \n",
       "1                  8.51        566.80              0.85           0.45   \n",
       "2                  8.07        301.88              0.97           0.49   \n",
       "3                  8.00        359.60              1.04           0.45   \n",
       "4                  6.77        485.53              1.09           0.48   \n",
       "5                  6.85        536.66              0.95           0.46   \n",
       "6                  9.89        784.66              1.24           0.62   \n",
       "7                  5.96        763.70              1.23           0.83   \n",
       "8                  6.79        506.80              1.16           0.36   \n",
       "9                  7.29        578.11              1.18           0.85   \n",
       "10                 9.07        721.61              0.86           0.48   \n",
       "11                 7.34        408.35              1.11           0.54   \n",
       "12                 8.88        833.10              1.23           0.54   \n",
       "\n",
       "    Pct_Questions_without_Accepted_Answer  Median_Hours_To_Get_Accepted_Answer  \n",
       "0                                   69.32                                14.80  \n",
       "1                                   57.35                                 4.19  \n",
       "2                                   69.90                                12.57  \n",
       "3                                   60.21                                 7.60  \n",
       "4                                   62.39                                 6.99  \n",
       "5                                   68.20                                 6.09  \n",
       "6                                   68.10                                15.74  \n",
       "7                                   70.43                                12.74  \n",
       "8                                   67.20                                24.88  \n",
       "9                                   66.52                                16.85  \n",
       "10                                  65.18                                14.79  \n",
       "11                                  67.84                                12.71  \n",
       "12                                  75.98                                 9.81  "
      ],
      "text/html": "<div>\n<style scoped>\n    .dataframe tbody tr th:only-of-type {\n        vertical-align: middle;\n    }\n\n    .dataframe tbody tr th {\n        vertical-align: top;\n    }\n\n    .dataframe thead th {\n        text-align: right;\n    }\n</style>\n<table border=\"1\" class=\"dataframe\">\n  <thead>\n    <tr style=\"text-align: right;\">\n      <th></th>\n      <th>Topic_ID</th>\n      <th>Topic_Name</th>\n      <th>Number_of_Posts(Q+A)</th>\n      <th>Percentage_of_Posts</th>\n      <th>Averege_View</th>\n      <th>AVerege_Favorite</th>\n      <th>Averege_Score</th>\n      <th>Pct_Questions_without_Accepted_Answer</th>\n      <th>Median_Hours_To_Get_Accepted_Answer</th>\n    </tr>\n  </thead>\n  <tbody>\n    <tr>\n      <th>0</th>\n      <td>0</td>\n      <td>Data Storage &amp; Migration</td>\n      <td>315</td>\n      <td>6.58</td>\n      <td>472.83</td>\n      <td>1.07</td>\n      <td>0.60</td>\n      <td>69.32</td>\n      <td>14.80</td>\n    </tr>\n    <tr>\n      <th>1</th>\n      <td>1</td>\n      <td>Dynamic Form Controller</td>\n      <td>407</td>\n      <td>8.51</td>\n      <td>566.80</td>\n      <td>0.85</td>\n      <td>0.45</td>\n      <td>57.35</td>\n      <td>4.19</td>\n    </tr>\n    <tr>\n      <th>2</th>\n      <td>2</td>\n      <td>Access Control &amp; Security</td>\n      <td>386</td>\n      <td>8.07</td>\n      <td>301.88</td>\n      <td>0.97</td>\n      <td>0.49</td>\n      <td>69.90</td>\n      <td>12.57</td>\n    </tr>\n    <tr>\n      <th>3</th>\n      <td>3</td>\n      <td>SQL CRUD</td>\n      <td>383</td>\n      <td>8.00</td>\n      <td>359.60</td>\n      <td>1.04</td>\n      <td>0.45</td>\n      <td>60.21</td>\n      <td>7.60</td>\n    </tr>\n    <tr>\n      <th>4</th>\n      <td>4</td>\n      <td>Entity Relationship Management</td>\n      <td>324</td>\n      <td>6.77</td>\n      <td>485.53</td>\n      <td>1.09</td>\n      <td>0.48</td>\n      <td>62.39</td>\n      <td>6.99</td>\n    </tr>\n    <tr>\n      <th>5</th>\n      <td>5</td>\n      <td>UI Adaptation</td>\n      <td>328</td>\n      <td>6.85</td>\n      <td>536.66</td>\n      <td>0.95</td>\n      <td>0.46</td>\n      <td>68.20</td>\n      <td>6.09</td>\n    </tr>\n    <tr>\n      <th>6</th>\n      <td>6</td>\n      <td>External Web Req Processing</td>\n      <td>473</td>\n      <td>9.89</td>\n      <td>784.66</td>\n      <td>1.24</td>\n      <td>0.62</td>\n      <td>68.10</td>\n      <td>15.74</td>\n    </tr>\n    <tr>\n      <th>7</th>\n      <td>7</td>\n      <td>External API &amp; Email Config</td>\n      <td>285</td>\n      <td>5.96</td>\n      <td>763.70</td>\n      <td>1.23</td>\n      <td>0.83</td>\n      <td>70.43</td>\n      <td>12.74</td>\n    </tr>\n    <tr>\n      <th>8</th>\n      <td>8</td>\n      <td>Dynamic Content Binding</td>\n      <td>325</td>\n      <td>6.79</td>\n      <td>506.80</td>\n      <td>1.16</td>\n      <td>0.36</td>\n      <td>67.20</td>\n      <td>24.88</td>\n    </tr>\n    <tr>\n      <th>9</th>\n      <td>9</td>\n      <td>Cloud and On-Prem Conf</td>\n      <td>349</td>\n      <td>7.29</td>\n      <td>578.11</td>\n      <td>1.18</td>\n      <td>0.85</td>\n      <td>66.52</td>\n      <td>16.85</td>\n    </tr>\n    <tr>\n      <th>10</th>\n      <td>10</td>\n      <td>Dynamic Content Display</td>\n      <td>434</td>\n      <td>9.07</td>\n      <td>721.61</td>\n      <td>0.86</td>\n      <td>0.48</td>\n      <td>65.18</td>\n      <td>14.79</td>\n    </tr>\n    <tr>\n      <th>11</th>\n      <td>11</td>\n      <td>Client Server Comm &amp; IO</td>\n      <td>351</td>\n      <td>7.34</td>\n      <td>408.35</td>\n      <td>1.11</td>\n      <td>0.54</td>\n      <td>67.84</td>\n      <td>12.71</td>\n    </tr>\n    <tr>\n      <th>12</th>\n      <td>12</td>\n      <td>Dynamic Event Handling</td>\n      <td>425</td>\n      <td>8.88</td>\n      <td>833.10</td>\n      <td>1.23</td>\n      <td>0.54</td>\n      <td>75.98</td>\n      <td>9.81</td>\n    </tr>\n  </tbody>\n</table>\n</div>"
     },
     "metadata": {},
     "execution_count": 39
    }
   ],
   "source": [
    "# total post = total questions + total accepted answers\n",
    "TOTAL_POSTS = len(so_df) + so_df.AcceptedAnswer.count()\n",
    "\n",
    "all_view_counts = []\n",
    "all_fav_counts = []\n",
    "all_score_count = []\n",
    "\n",
    "number_of_posts = []\n",
    "percentage_of_posts = []\n",
    "avg_view = []\n",
    "avg_favorite = []\n",
    "avg_score = []\n",
    "pct_questions_without_accepted_answer = []\n",
    "median_hours_to_get_accepted_answer = []\n",
    "for topic_id in TOPIC_ID_LOW_CATEGORY:\n",
    "    idsToRetain = []\n",
    "    temp_df = pd.read_csv(f'./TopicToPost/{topic_id}/Questions.csv')\n",
    "    idsToRetain.extend(temp_df.link.apply(linkToId).tolist())\n",
    "    temp_ans_df = pd.read_csv(f'./TopicToPost/{topic_id}/Answers.csv')\n",
    "    temp_df = so_df[so_df['Id'].isin(idsToRetain)]\n",
    "    post_cnt = len(temp_df) + len(temp_ans_df)\n",
    "    number_of_posts.append(post_cnt)\n",
    "    percentage_of_posts.append(round(((post_cnt/TOTAL_POSTS)*100.0), 2))\n",
    "    avg_view.append(round(temp_df.ViewCount.mean(), 2))\n",
    "    all_view_counts.extend(temp_df.ViewCount.to_list())\n",
    "    avg_favorite.append(round(temp_df.FavoriteCount.mean(), 2))\n",
    "    all_fav_counts.extend(temp_df.FavoriteCount.to_list())\n",
    "    avg_score.append(round(temp_df.Score.mean(), 2))\n",
    "    all_score_count.extend(temp_df.Score.to_list())\n",
    "    pct_questions_without_accepted_answer.append(\n",
    "        round((((len(temp_df)-temp_df.AcceptedAnswer.count())/len(temp_df))*100.0), 2))\n",
    "    # median hours\n",
    "    temp_median_df = temp_df[temp_df['AcceptedAnswer'].notnull(\n",
    "    )][['CreationDate', 'AcceptedAnswerCreationDate']]\n",
    "    temp_median_df['Diff_Hour'] = (\n",
    "        temp_median_df.AcceptedAnswerCreationDate - temp_median_df.CreationDate) / pd.Timedelta(hours=1)\n",
    "    median_hours_to_get_accepted_answer.append(\n",
    "        round(temp_median_df.Diff_Hour.median(), 2))\n",
    "    # print(len(temp_df), len(questions_with_accepted_answers))\n",
    "\n",
    "df = pd.DataFrame()\n",
    "df['Topic_ID'] = TOPIC_ID_LOW_CATEGORY.keys()\n",
    "df['Topic_Name'] = TOPIC_ID_LOW_CATEGORY.values()\n",
    "df['Number_of_Posts(Q+A)'] = number_of_posts\n",
    "df['Percentage_of_Posts'] = percentage_of_posts\n",
    "df['Averege_View'] = avg_view\n",
    "df['AVerege_Favorite'] = avg_favorite\n",
    "df['Averege_Score'] = avg_score\n",
    "df['Pct_Questions_without_Accepted_Answer'] = pct_questions_without_accepted_answer\n",
    "df['Median_Hours_To_Get_Accepted_Answer'] = median_hours_to_get_accepted_answer\n",
    "df.to_csv('Stats_Topic_Modeling_Low_Level.csv', index=False)\n",
    "df"
   ]
  },
  {
   "cell_type": "code",
   "execution_count": 40,
   "metadata": {},
   "outputs": [
    {
     "output_type": "stream",
     "name": "stdout",
     "text": [
      "acg view\n571.9794273005282\navg fav\n1.0934959349593496\navg score\n0.5446205170975813\n"
     ]
    }
   ],
   "source": [
    "import math\n",
    "# all_fav_counts = [0 if math.isnan(x) else x for x in all_fav_counts]\n",
    "\n",
    "all_fav_counts =[value for value in all_fav_counts if not math.isnan(value)]\n",
    "\n",
    "print('acg view')\n",
    "print(sum(all_view_counts)/len(all_view_counts))\n",
    "\n",
    "print('avg fav')\n",
    "print(sum(all_fav_counts)/len(all_fav_counts))\n",
    "\n",
    "print('avg score')\n",
    "print(sum(all_score_count)/len(all_score_count))"
   ]
  },
  {
   "source": [
    "# Labelled Data\n",
    "\n",
    "## sheet 1: challenge_id, question_id, challenge_label, challenge_category, sdlc.\n",
    "\n",
    "## Sheet 2: “question_id, challenge id, topic id, topic label, topic category”"
   ],
   "cell_type": "markdown",
   "metadata": {}
  },
  {
   "source": [
    "## Sheet 1: challenge_id,  challenge_label, question_id, sdlc\n",
    "## Sheet 2: question_id, challenge id, challenge_label, topic id, topic label, topic category"
   ],
   "cell_type": "markdown",
   "metadata": {}
  },
  {
   "cell_type": "code",
   "execution_count": null,
   "metadata": {},
   "outputs": [],
   "source": [
    "label_df = pd.read_csv('so_labelling_data.csv')\n",
    "label_df = label_df[label_df.Tag1.notna()]\n",
    "print(len(label_df))\n",
    "print(label_df.SDLC.notna().count())\n",
    "label_df.SDLC= label_df.SDLC.astype(str)\n",
    "label_df.Tag1= label_df.Tag1.astype(str)\n",
    "label_df.Tag2= label_df.Tag2.fillna('')\n",
    "label_df.Tag2= label_df.Tag2.astype(str)\n",
    "label_df"
   ]
  },
  {
   "cell_type": "code",
   "execution_count": null,
   "metadata": {},
   "outputs": [],
   "source": [
    "from collections import defaultdict\n",
    "\n",
    "tagFreq = defaultdict(int)\n",
    "for item in label_df.Tag1.value_counts().iteritems():\n",
    "    tagFreq[item[0]] += item[1]\n",
    "for item in label_df.Tag2.value_counts().iteritems():\n",
    "    tagFreq[item[0]] += item[1]\n",
    "for item in tagFreq.items():\n",
    "    print(item)\n",
    "challengeDict = {}\n",
    "cnt = 0\n",
    "for item in tagFreq.items():\n",
    "    if item[0] != '':\n",
    "        challengeDict[item[0]] = cnt\n",
    "        cnt += 1"
   ]
  },
  {
   "cell_type": "code",
   "execution_count": null,
   "metadata": {
    "tags": []
   },
   "outputs": [],
   "source": [
    "questionsUnderTopic = {}\n",
    "for topic_id in TOPIC_ID_LOW_CATEGORY:\n",
    "    temp_df = pd.read_csv(f'./TopicToPost/{topic_id}/Questions.csv')\n",
    "    questionsUnderTopic[topic_id] = set(temp_df.link.apply(linkToId).tolist())"
   ]
  },
  {
   "cell_type": "code",
   "execution_count": null,
   "metadata": {},
   "outputs": [],
   "source": [
    "challenge_ids = [] #DDD\n",
    "challenge_labels = [] #DDD\n",
    "question_ids = [] #DDD\n",
    "sdlcs = [] #DDD\n",
    "topic_ids = [] #DDD\n",
    "topic_labels = [] ###\n",
    "topic_categorys = [] ###\n",
    "cnt = 0\n",
    "for i in range(len(label_df)):\n",
    "    lc = 1\n",
    "    if label_df.iloc[i].Tag2 != '':\n",
    "        lc = 2\n",
    "    for _ in range(lc):\n",
    "        question_ids.append(label_df.iloc[i].Id)\n",
    "        sdlcs.append(label_df.iloc[i].SDLC[3:].capitalize())\n",
    "        topic_id_for_q = -1\n",
    "        for tid in questionsUnderTopic:\n",
    "            if label_df.iloc[i].Id in questionsUnderTopic[tid]:\n",
    "                topic_id_for_q = tid\n",
    "                break\n",
    "        topic_ids.append(topic_id_for_q)\n",
    "        topic_labels.append(TOPIC_ID_LOW_CATEGORY[topic_id_for_q])\n",
    "        topic_categorys.append(TOPIC_ID_HIGHER_CATEGORY[topic_id_for_q])\n",
    "    challenge_ids.append(challengeDict[label_df.iloc[i].Tag1])\n",
    "    challenge_labels.append(label_df.iloc[i].Tag1)\n",
    "    if lc == 2:\n",
    "        challenge_ids.append(challengeDict[label_df.iloc[i].Tag2])\n",
    "        challenge_labels.append(label_df.iloc[i].Tag2)\n",
    "df = pd.DataFrame()\n",
    "df['Challenge_Id'] = challenge_ids\n",
    "df['Challenge_Label'] = challenge_labels\n",
    "df['Question_id'] = question_ids\n",
    "df['SDLC'] = sdlcs\n",
    "df.to_csv('sheet1.csv', index=False)\n",
    "df\n",
    "\n",
    "df2 = pd.DataFrame()\n",
    "df2['Question_id'] = question_ids\n",
    "df2['Question_id'] = df2['Question_id'].apply(lambda x : make_link(x,'q'))\n",
    "df2['Challenge_Id'] = challenge_ids\n",
    "df2['Challenge_Label'] = challenge_labels\n",
    "df2['Topic_Id'] = topic_ids\n",
    "df2['Topic_Label'] = topic_labels\n",
    "df2['Topic_Category'] = topic_categorys\n",
    "df2.to_csv('sheet2.csv', index=False)\n",
    "df2"
   ]
  },
  {
   "cell_type": "code",
   "execution_count": null,
   "metadata": {},
   "outputs": [],
   "source": [
    "## Sheet 1: challenge_id,  challenge_label, question_id, sdlc\n",
    "## Sheet 2: question_id, challenge id, challenge_label, topic id, topic label, topic category"
   ]
  },
  {
   "cell_type": "code",
   "execution_count": null,
   "metadata": {},
   "outputs": [],
   "source": [
    "challengeDict"
   ]
  },
  {
   "source": [
    "# Sheet1: topic, topic category, date, total question, total accepted answer#"
   ],
   "cell_type": "markdown",
   "metadata": {}
  },
  {
   "cell_type": "code",
   "execution_count": null,
   "metadata": {},
   "outputs": [],
   "source": [
    "DUMMY_DATE = pd.to_datetime('2008-11-27 18:18:37.777')\n",
    "\n",
    "result_df = pd.DataFrame()\n",
    "\n",
    "for high_cat in HIGHER_CAT_TO_TOPIC_ID:\n",
    "    for topic_id in HIGHER_CAT_TO_TOPIC_ID[high_cat]:\n",
    "        idsToRetain = []\n",
    "        temp_df = pd.read_csv(f'./TopicToPost/{topic_id}/Questions.csv')\n",
    "        idsToRetain.extend(temp_df.link.apply(linkToId).tolist())\n",
    "        temp_ans_df = pd.read_csv(f'./TopicToPost/{topic_id}/Answers.csv')\n",
    "        temp_qs_df = so_df[so_df['Id'].isin(idsToRetain)]\n",
    "        temp_qs_df = temp_qs_df[['Id', 'CreationDate']]\n",
    "        temp_qs_df = temp_qs_df.append(pd.Series(data=[DUMMY_DATE], index = ['CreationDate']), ignore_index=True)\n",
    "        final_df = temp_qs_df.resample('MS', on='CreationDate').count()[['Id']]\n",
    "        final_df.columns = ['Question_Cnt']\n",
    "        # print(final_df)\n",
    "        temp_ans_df = so_df[so_df['Id'].isin(temp_ans_df.link.apply(linkToId).tolist())]\n",
    "        temp_ans_df = temp_ans_df[['AcceptedAnswerId','AcceptedAnswerCreationDate']]\n",
    "        temp_ans_df.columns = ['Id','CreationDate']\n",
    "        temp_ans_df = temp_ans_df.append(pd.Series(data=[DUMMY_DATE], index = ['CreationDate']), ignore_index=True)\n",
    "        final_df_a = temp_ans_df.resample('MS', on='CreationDate').count()[['Id']]\n",
    "        final_df_a.columns = ['Answer_Cnt']\n",
    "        final_df = final_df.merge(final_df_a, how='left', on='CreationDate', validate='one_to_one')\n",
    "        # topic.append(TOPIC_ID_HIGHER_CATEGORY[topic_id])\n",
    "        # topic_id_col.append(topic_id)\n",
    "        # topic_name_col.append(TOPIC_ID_LOW_CATEGORY[topic_id])\n",
    "        # total_ques_col.append()\n",
    "        final_df['Topic Id'] = topic_id\n",
    "        final_df['Topic_Name_Low'] = TOPIC_ID_LOW_CATEGORY[topic_id]\n",
    "        final_df['Topic_Name_High'] = TOPIC_ID_HIGHER_CATEGORY[topic_id]\n",
    "        result_df = result_df.append(final_df)\n",
    "    \n",
    "\n",
    "result_df.fillna(0, inplace=True)\n",
    "result_df.Question_Cnt = result_df.Answer_Cnt.astype('int64')\n",
    "result_df.Answer_Cnt = result_df.Answer_Cnt.astype('int64')\n",
    "result_df.to_csv('SheetXXXX.csv')"
   ]
  },
  {
   "source": [
    "# Sheet 2: platform, date, total question, total accepted answer, total answer"
   ],
   "cell_type": "markdown",
   "metadata": {}
  },
  {
   "cell_type": "code",
   "execution_count": null,
   "metadata": {},
   "outputs": [],
   "source": [
    "DUMMY_DATE = pd.to_datetime('2008-11-27 18:18:37.777')\n",
    "\n",
    "\n",
    "result_df = pd.DataFrame()\n",
    "\n",
    "\n",
    "for platform in PLATFORMS:\n",
    "    indicesToRemove = []\n",
    "    for i in range(len(so_df)):\n",
    "        qtags = so_df.iloc[i]['Tags'][1:-1].replace('><', ' ').split()\n",
    "        f = True\n",
    "        for qtag in qtags:\n",
    "            for ptag in PLATFORMS[platform]:\n",
    "                if qtag == ptag:\n",
    "                    f = False\n",
    "                    break\n",
    "        if f:\n",
    "            indicesToRemove.append(i)\n",
    "    temp_df_q = so_df.drop(index=indicesToRemove)\n",
    "    # temp_df_a = so_df[so_df['Id'].isin(temp_df_q.Id.tolist())]\n",
    "    temp_df_a = temp_df_q[['AcceptedAnswerId','AcceptedAnswerCreationDate']]\n",
    "\n",
    "    temp_df_q = temp_df_q.append(pd.Series(data=[DUMMY_DATE], index = ['CreationDate']), ignore_index=True)\n",
    "    final_df = temp_df_q.resample('MS', on='CreationDate').count()[['Id']]\n",
    "    final_df.columns = ['Question_Cnt']\n",
    "\n",
    "    # temp_df_q = temp_df_q[['Id','CreationDate']]\n",
    "    temp_df_a.columns = ['Id','CreationDate']\n",
    "\n",
    "    temp_df_a = temp_df_a.append(pd.Series(data=[DUMMY_DATE], index = ['CreationDate']), ignore_index=True)\n",
    "    temp_df_a = temp_df_a.resample('MS', on='CreationDate').count()[['Id']]\n",
    "    temp_df_a.columns = ['Answer_Cnt']\n",
    "    final_df = final_df.merge(temp_df_a, how='left', on='CreationDate', validate='one_to_one')\n",
    "    # temp_df_q = temp_df.resample('MS',on='CreationDate').sum()[['AnswerCount']]\n",
    "    final_df['Platform_Name'] = platform\n",
    "    result_df = result_df.append(final_df)\n",
    "    "
   ]
  },
  {
   "cell_type": "code",
   "execution_count": null,
   "metadata": {},
   "outputs": [],
   "source": [
    "result_df.to_csv('Sheet_Platform_PerMonth.csv')"
   ]
  },
  {
   "source": [
    "# spreadsheet1 below:\n",
    "\n",
    "# Post id, post type (1 for Question, 2 for answer), AcceptedAnswerId (null if post is an answer), score, view count, favorite count, question_title (if post is a question), post creation time\n",
    "\n"
   ],
   "cell_type": "markdown",
   "metadata": {}
  },
  {
   "cell_type": "code",
   "execution_count": 15,
   "metadata": {},
   "outputs": [
    {
     "output_type": "execute_result",
     "data": {
      "text/plain": [
       "       Post_id  Post_type  AcceptedAnswerId  Score  ViewCount  FavoriteCount  \\\n",
       "0       326366          1          598997.0      0     2106.0            NaN   \n",
       "1       359717          1          359725.0      1      329.0            1.0   \n",
       "2       544097          1         3325135.0      4     3207.0            1.0   \n",
       "3       980932          1          981468.0      2     1263.0            1.0   \n",
       "4      1236439          1         1237753.0      1     2655.0            1.0   \n",
       "...        ...        ...               ...    ...        ...            ...   \n",
       "3362  61927643          2               NaN      2        NaN            NaN   \n",
       "3365  61947529          2               NaN      0        NaN            NaN   \n",
       "3368  61961303          2               NaN      1        NaN            NaN   \n",
       "3369  61961305          2               NaN      1        NaN            NaN   \n",
       "3379  62072812          2               NaN      1        NaN            NaN   \n",
       "\n",
       "                                         Question_Title  \\\n",
       "0                        Experiences with Zoho Creator?   \n",
       "1     What's the best free resource to learn about M...   \n",
       "2                     Create lightning in OpenGL ES 1.1   \n",
       "3                             Python QuickBase API Help   \n",
       "4     How do generate screen elements dynamically in...   \n",
       "...                                                 ...   \n",
       "3362                                                NaN   \n",
       "3365                                                NaN   \n",
       "3368                                                NaN   \n",
       "3369                                                NaN   \n",
       "3379                                                NaN   \n",
       "\n",
       "          Post_Creation_Date  \n",
       "0    2008-11-28 18:18:37.777  \n",
       "1    2008-12-11 15:30:30.840  \n",
       "2    2009-02-12 23:48:51.290  \n",
       "3    2009-06-11 13:02:07.977  \n",
       "4    2009-08-06 00:38:58.153  \n",
       "...                      ...  \n",
       "3362 2020-05-21 05:05:54.620  \n",
       "3365 2020-05-22 03:47:06.797  \n",
       "3368 2020-05-22 18:08:58.117  \n",
       "3369 2020-05-22 18:08:58.737  \n",
       "3379 2020-05-28 19:17:47.233  \n",
       "\n",
       "[4785 rows x 8 columns]"
      ],
      "text/html": "<div>\n<style scoped>\n    .dataframe tbody tr th:only-of-type {\n        vertical-align: middle;\n    }\n\n    .dataframe tbody tr th {\n        vertical-align: top;\n    }\n\n    .dataframe thead th {\n        text-align: right;\n    }\n</style>\n<table border=\"1\" class=\"dataframe\">\n  <thead>\n    <tr style=\"text-align: right;\">\n      <th></th>\n      <th>Post_id</th>\n      <th>Post_type</th>\n      <th>AcceptedAnswerId</th>\n      <th>Score</th>\n      <th>ViewCount</th>\n      <th>FavoriteCount</th>\n      <th>Question_Title</th>\n      <th>Post_Creation_Date</th>\n    </tr>\n  </thead>\n  <tbody>\n    <tr>\n      <th>0</th>\n      <td>326366</td>\n      <td>1</td>\n      <td>598997.0</td>\n      <td>0</td>\n      <td>2106.0</td>\n      <td>NaN</td>\n      <td>Experiences with Zoho Creator?</td>\n      <td>2008-11-28 18:18:37.777</td>\n    </tr>\n    <tr>\n      <th>1</th>\n      <td>359717</td>\n      <td>1</td>\n      <td>359725.0</td>\n      <td>1</td>\n      <td>329.0</td>\n      <td>1.0</td>\n      <td>What's the best free resource to learn about M...</td>\n      <td>2008-12-11 15:30:30.840</td>\n    </tr>\n    <tr>\n      <th>2</th>\n      <td>544097</td>\n      <td>1</td>\n      <td>3325135.0</td>\n      <td>4</td>\n      <td>3207.0</td>\n      <td>1.0</td>\n      <td>Create lightning in OpenGL ES 1.1</td>\n      <td>2009-02-12 23:48:51.290</td>\n    </tr>\n    <tr>\n      <th>3</th>\n      <td>980932</td>\n      <td>1</td>\n      <td>981468.0</td>\n      <td>2</td>\n      <td>1263.0</td>\n      <td>1.0</td>\n      <td>Python QuickBase API Help</td>\n      <td>2009-06-11 13:02:07.977</td>\n    </tr>\n    <tr>\n      <th>4</th>\n      <td>1236439</td>\n      <td>1</td>\n      <td>1237753.0</td>\n      <td>1</td>\n      <td>2655.0</td>\n      <td>1.0</td>\n      <td>How do generate screen elements dynamically in...</td>\n      <td>2009-08-06 00:38:58.153</td>\n    </tr>\n    <tr>\n      <th>...</th>\n      <td>...</td>\n      <td>...</td>\n      <td>...</td>\n      <td>...</td>\n      <td>...</td>\n      <td>...</td>\n      <td>...</td>\n      <td>...</td>\n    </tr>\n    <tr>\n      <th>3362</th>\n      <td>61927643</td>\n      <td>2</td>\n      <td>NaN</td>\n      <td>2</td>\n      <td>NaN</td>\n      <td>NaN</td>\n      <td>NaN</td>\n      <td>2020-05-21 05:05:54.620</td>\n    </tr>\n    <tr>\n      <th>3365</th>\n      <td>61947529</td>\n      <td>2</td>\n      <td>NaN</td>\n      <td>0</td>\n      <td>NaN</td>\n      <td>NaN</td>\n      <td>NaN</td>\n      <td>2020-05-22 03:47:06.797</td>\n    </tr>\n    <tr>\n      <th>3368</th>\n      <td>61961303</td>\n      <td>2</td>\n      <td>NaN</td>\n      <td>1</td>\n      <td>NaN</td>\n      <td>NaN</td>\n      <td>NaN</td>\n      <td>2020-05-22 18:08:58.117</td>\n    </tr>\n    <tr>\n      <th>3369</th>\n      <td>61961305</td>\n      <td>2</td>\n      <td>NaN</td>\n      <td>1</td>\n      <td>NaN</td>\n      <td>NaN</td>\n      <td>NaN</td>\n      <td>2020-05-22 18:08:58.737</td>\n    </tr>\n    <tr>\n      <th>3379</th>\n      <td>62072812</td>\n      <td>2</td>\n      <td>NaN</td>\n      <td>1</td>\n      <td>NaN</td>\n      <td>NaN</td>\n      <td>NaN</td>\n      <td>2020-05-28 19:17:47.233</td>\n    </tr>\n  </tbody>\n</table>\n<p>4785 rows × 8 columns</p>\n</div>"
     },
     "metadata": {},
     "execution_count": 15
    }
   ],
   "source": [
    "acceptedAnswerIds = so_df.AcceptedAnswerId.dropna().astype('int64').tolist()\n",
    "so_accepted_df = so_ans_df[so_ans_df['Id'].isin(acceptedAnswerIds)]\n",
    "final_df = so_df.drop(columns=['AcceptedAnswer','AcceptedAnswerCreationDate']).append(so_accepted_df)\n",
    "final_df = final_df[['Id','PostTypeId','AcceptedAnswerId','Score','ViewCount','FavoriteCount','Title','CreationDate']]\n",
    "final_df.columns = ['Post_id','Post_type','AcceptedAnswerId','Score','ViewCount','FavoriteCount','Question_Title','Post_Creation_Date']\n",
    "final_df.to_csv('spreadsheet1.csv', index= False)\n",
    "final_df"
   ]
  },
  {
   "cell_type": "code",
   "execution_count": 17,
   "metadata": {},
   "outputs": [
    {
     "output_type": "execute_result",
     "data": {
      "text/plain": [
       "3579"
      ]
     },
     "metadata": {},
     "execution_count": 17
    }
   ],
   "source": [
    "final_df.Score.sum()"
   ]
  },
  {
   "source": [
    "# Spreadsheet 2 contains mapping of post information to the generated topics. It should have the following sheets:\n",
    "# Sheet1. Topic ID, Topic Label, Topic Category, Month-Year (e.g., for Jan 2020, it would be 01-01-2020), Total questions created in Month-Year, Total accepted answers created in Month-Year, Total answer created in Month-Year, Total view, Total favorite, Total score"
   ],
   "cell_type": "markdown",
   "metadata": {}
  },
  {
   "cell_type": "code",
   "execution_count": 20,
   "metadata": {
    "tags": []
   },
   "outputs": [],
   "source": [
    "# sheet 1\n",
    "DUMMY_DATE = pd.to_datetime('2008-11-27 18:18:37.777')\n",
    "result_df = pd.DataFrame()\n",
    "\n",
    "for high_cat in HIGHER_CAT_TO_TOPIC_ID:\n",
    "    for topic_id in HIGHER_CAT_TO_TOPIC_ID[high_cat]:\n",
    "        temp_df = pd.read_csv(f'./TopicToPost/{topic_id}/Questions.csv')\n",
    "        idsToRetain = temp_df.link.apply(linkToId).tolist()\n",
    "        temp_ans_df = pd.read_csv(f'./TopicToPost/{topic_id}/Answers.csv')\n",
    "        temp_qs_df = so_df[so_df['Id'].isin(idsToRetain)]\n",
    "        temp_qs_df = temp_qs_df.append(pd.Series(data=[DUMMY_DATE], index = ['CreationDate']), ignore_index=True)\n",
    "        # print(len(temp_qs_df))\n",
    "        idsToRetain = temp_ans_df.link.apply(linkToId).tolist()\n",
    "        temp_df = so_df[so_df['Id'].isin(idsToRetain)]\n",
    "        idsToRetain = temp_df.AcceptedAnswerId.astype('int64').tolist()\n",
    "        temp_ans_df = so_ans_df[so_ans_df['Id'].isin(idsToRetain)]\n",
    "        temp_ans_df = temp_ans_df.append(pd.Series(data=[DUMMY_DATE], index = ['CreationDate']), ignore_index=True)\n",
    "        # print(len(temp_ans_df))\n",
    "        # temp_qs_df = temp_qs_df[['Id', 'CreationDate']]\n",
    "        final_df = temp_qs_df.resample('MS', on='CreationDate').count()[['Id']]\n",
    "        final_df.columns = ['Question_Cnt']\n",
    "        # print(final_df.Question_Cnt.sum())\n",
    "        \n",
    "        temp_df = temp_ans_df.resample('MS', on='CreationDate').count()[['Id']]\n",
    "        temp_df.columns = ['Answer_Cnt']\n",
    "        final_df = final_df.merge(temp_df, how='left', on='CreationDate', validate='one_to_one')\n",
    "\n",
    "        temp_qs_df.ViewCount.fillna(0, inplace=True)\n",
    "        temp_qs_df.ViewCount = temp_qs_df.ViewCount.astype('int64')\n",
    "        temp_df = temp_qs_df.resample('MS', on='CreationDate').sum()['ViewCount']\n",
    "        temp_df.columns = ['Total_view']\n",
    "        final_df = final_df.merge(temp_df, how='left', on='CreationDate', validate='one_to_one')\n",
    "\n",
    "        temp_qs_df.FavoriteCount.fillna(0, inplace=True)\n",
    "        temp_qs_df.FavoriteCount = temp_qs_df.FavoriteCount.astype('int64')\n",
    "        temp_df = temp_qs_df.resample('MS', on='CreationDate').sum()['FavoriteCount']\n",
    "        temp_df.columns = ['Total_favorite']\n",
    "        final_df = final_df.merge(temp_df, how='left', on='CreationDate', validate='one_to_one')\n",
    "\n",
    "        temp_qs_df.Score.fillna(0, inplace=True)\n",
    "        temp_qs_df.Score = temp_qs_df.Score.astype('int64')\n",
    "        temp_ans_df.Score.fillna(0, inplace=True)\n",
    "        temp_ans_df.Score = temp_ans_df.Score.astype('int64')\n",
    "        temp_qs_df = temp_qs_df.append(temp_ans_df)\n",
    "        temp_df = temp_qs_df.resample('MS', on='CreationDate').sum()['Score']\n",
    "        temp_df.columns = ['Total_Score']\n",
    "        final_df = final_df.merge(temp_df, how='left', on='CreationDate', validate='one_to_one')\n",
    "\n",
    "        final_df['Topic_Id'] = topic_id\n",
    "        final_df['Topic_Label'] = TOPIC_ID_LOW_CATEGORY[topic_id]\n",
    "        final_df['Topic_Category'] = TOPIC_ID_HIGHER_CATEGORY[topic_id]\n",
    "        # print(final_df)\n",
    "        result_df = result_df.append(final_df)\n",
    "        # print(result_df)\n",
    "result_df.to_csv('Spreadsheet2_Topic.csv')"
   ]
  },
  {
   "cell_type": "code",
   "execution_count": 22,
   "metadata": {},
   "outputs": [
    {
     "output_type": "execute_result",
     "data": {
      "text/plain": [
       "3579"
      ]
     },
     "metadata": {},
     "execution_count": 22
    }
   ],
   "source": [
    "result_df.Score.sum()"
   ]
  },
  {
   "source": [
    "# Sheet 2. Month-Year, Platform (e.g., Google app maker), total question created in Month-year for Platform, total answer created in Month-year, total accepted answer created in Month-Year, Total view count, Total favorite count, Total score"
   ],
   "cell_type": "markdown",
   "metadata": {}
  },
  {
   "cell_type": "code",
   "execution_count": 23,
   "metadata": {},
   "outputs": [
    {
     "output_type": "stream",
     "name": "stdout",
     "text": [
      "CreationDate\n",
      "2008-11-01       0\n",
      "2008-12-01       0\n",
      "2009-01-01       0\n",
      "2009-02-01    3207\n",
      "2009-03-01       0\n",
      "              ... \n",
      "2020-01-01    1791\n",
      "2020-02-01    1120\n",
      "2020-03-01    1702\n",
      "2020-04-01    1377\n",
      "2020-05-01     927\n",
      "Freq: MS, Name: ViewCount, Length: 139, dtype: int64\n",
      "CreationDate\n",
      "2008-11-01     0\n",
      "2008-12-01     0\n",
      "2009-01-01     0\n",
      "2009-02-01     0\n",
      "2009-03-01     0\n",
      "              ..\n",
      "2020-01-01    77\n",
      "2020-02-01    23\n",
      "2020-03-01    82\n",
      "2020-04-01    82\n",
      "2020-05-01     4\n",
      "Freq: MS, Name: ViewCount, Length: 139, dtype: int64\n",
      "CreationDate\n",
      "2008-11-01      0\n",
      "2008-12-01    329\n",
      "2009-01-01      0\n",
      "2009-02-01      0\n",
      "2009-03-01      0\n",
      "             ... \n",
      "2020-01-01    162\n",
      "2020-02-01    139\n",
      "2020-03-01     26\n",
      "2020-04-01     14\n",
      "2020-05-01    119\n",
      "Freq: MS, Name: ViewCount, Length: 139, dtype: int64\n",
      "CreationDate\n",
      "2008-11-01       0\n",
      "2008-12-01       0\n",
      "2009-01-01       0\n",
      "2009-02-01       0\n",
      "2009-03-01       0\n",
      "              ... \n",
      "2020-01-01    1069\n",
      "2020-02-01      33\n",
      "2020-03-01     139\n",
      "2020-04-01      33\n",
      "2020-05-01      92\n",
      "Freq: MS, Name: ViewCount, Length: 139, dtype: int64\n",
      "CreationDate\n",
      "2008-11-01    2106\n",
      "2008-12-01       0\n",
      "2009-01-01       0\n",
      "2009-02-01       0\n",
      "2009-03-01       0\n",
      "              ... \n",
      "2020-01-01     369\n",
      "2020-02-01     194\n",
      "2020-03-01     249\n",
      "2020-04-01     145\n",
      "2020-05-01     149\n",
      "Freq: MS, Name: ViewCount, Length: 139, dtype: int64\n",
      "CreationDate\n",
      "2008-11-01      0\n",
      "2008-12-01      0\n",
      "2009-01-01      0\n",
      "2009-02-01      0\n",
      "2009-03-01      0\n",
      "             ... \n",
      "2020-01-01      0\n",
      "2020-02-01    147\n",
      "2020-03-01     47\n",
      "2020-04-01      0\n",
      "2020-05-01     31\n",
      "Freq: MS, Name: ViewCount, Length: 139, dtype: int64\n",
      "CreationDate\n",
      "2008-11-01       0\n",
      "2008-12-01       0\n",
      "2009-01-01       0\n",
      "2009-02-01       0\n",
      "2009-03-01       0\n",
      "              ... \n",
      "2020-01-01    2822\n",
      "2020-02-01    2703\n",
      "2020-03-01    1169\n",
      "2020-04-01    1098\n",
      "2020-05-01     937\n",
      "Freq: MS, Name: ViewCount, Length: 139, dtype: int64\n",
      "CreationDate\n",
      "2008-11-01     0\n",
      "2008-12-01     0\n",
      "2009-01-01     0\n",
      "2009-02-01     0\n",
      "2009-03-01     0\n",
      "              ..\n",
      "2020-01-01     0\n",
      "2020-02-01     0\n",
      "2020-03-01     0\n",
      "2020-04-01    24\n",
      "2020-05-01    27\n",
      "Freq: MS, Name: ViewCount, Length: 139, dtype: int64\n",
      "CreationDate\n",
      "2008-11-01     0\n",
      "2008-12-01     0\n",
      "2009-01-01     0\n",
      "2009-02-01     0\n",
      "2009-03-01     0\n",
      "              ..\n",
      "2020-01-01     0\n",
      "2020-02-01     0\n",
      "2020-03-01    40\n",
      "2020-04-01     0\n",
      "2020-05-01     8\n",
      "Freq: MS, Name: ViewCount, Length: 139, dtype: int64\n"
     ]
    }
   ],
   "source": [
    "DUMMY_DATE = pd.to_datetime('2008-11-27 18:18:37.777')\n",
    "\n",
    "\n",
    "result_df = pd.DataFrame()\n",
    "\n",
    "\n",
    "for platform in PLATFORMS:\n",
    "    indicesToRemove = []\n",
    "    for i in range(len(so_df)):\n",
    "        qtags = so_df.iloc[i]['Tags'][1:-1].replace('><', ' ').split()\n",
    "        f = True\n",
    "        for qtag in qtags:\n",
    "            for ptag in PLATFORMS[platform]:\n",
    "                if qtag == ptag:\n",
    "                    f = False\n",
    "                    break\n",
    "        if f:\n",
    "            indicesToRemove.append(i)\n",
    "    temp_qs_df = so_df.drop(index=indicesToRemove)\n",
    "    temp_qs_df = temp_qs_df.append(pd.Series(data=[DUMMY_DATE], index = ['CreationDate']), ignore_index=True)\n",
    "\n",
    "    questionIds = temp_qs_df.Id.astype('int64').tolist()\n",
    "    acceptedAnswerIds = temp_qs_df.AcceptedAnswerId.dropna().astype('int64').tolist()\n",
    "    # print(len(acceptedAnswerIds))\n",
    "    # print(len(temp_qs_df))\n",
    "    temp_ans_df = so_ans_df[so_ans_df['ParentId'].isin(questionIds)]\n",
    "    temp_acc_ans_df = temp_ans_df[temp_ans_df['Id'].isin(acceptedAnswerIds)]\n",
    "    # print(len(temp_ans_df))\n",
    "    # print(len(temp_acc_ans_df))\n",
    "\n",
    "    final_df = temp_qs_df.resample('MS', on='CreationDate').count()[['Id']]\n",
    "    final_df.columns = ['Question_Cnt']\n",
    "\n",
    "    temp_df = temp_ans_df.resample('MS', on='CreationDate').count()[['Id']]\n",
    "    temp_df.columns = ['Answer_Cnt']\n",
    "    final_df = final_df.merge(temp_df, how='left', on='CreationDate', validate='one_to_one')\n",
    "\n",
    "    temp_df = temp_acc_ans_df.resample('MS', on='CreationDate').count()[['Id']]\n",
    "    temp_df.columns = ['Accepted_Answer_Cnt']\n",
    "    final_df = final_df.merge(temp_df, how='left', on='CreationDate', validate='one_to_one')\n",
    "\n",
    "    temp_qs_df.ViewCount.fillna(0, inplace=True)\n",
    "    temp_qs_df.ViewCount = temp_qs_df.ViewCount.astype('int64')\n",
    "    temp_df = temp_qs_df.resample('MS', on='CreationDate').sum()['ViewCount']\n",
    "    temp_df.columns = ['Total_View_Cnt']\n",
    "    print(temp_df)\n",
    "    final_df = final_df.merge(temp_df, how='left', on='CreationDate', validate='one_to_one')\n",
    "\n",
    "    temp_qs_df.FavoriteCount.fillna(0, inplace=True)\n",
    "    temp_qs_df.FavoriteCount = temp_qs_df.FavoriteCount.astype('int64')\n",
    "    temp_df = temp_qs_df.resample('MS', on='CreationDate').sum()['FavoriteCount']\n",
    "    temp_df.columns = ['Total_Favorite_Cnt']\n",
    "    final_df = final_df.merge(temp_df, how='left', on='CreationDate', validate='one_to_one')\n",
    "\n",
    "    temp_qs_df.Score.fillna(0, inplace=True)\n",
    "    temp_qs_df.Score = temp_qs_df.Score.astype('int64')\n",
    "    temp_ans_df.Score.fillna(0, inplace=True)\n",
    "    temp_ans_df.Score = temp_ans_df.Score.astype('int64')\n",
    "    temp_qs_df = temp_qs_df.append(temp_ans_df)\n",
    "    temp_df = temp_qs_df.resample('MS', on='CreationDate').sum()['Score']\n",
    "    temp_df.columns = ['Total_Score_Cnt']\n",
    "    final_df = final_df.merge(temp_df, how='left', on='CreationDate', validate='one_to_one')\n",
    "\n",
    "    final_df['Platform_Name'] = platform\n",
    "    result_df = result_df.append(final_df)\n",
    "\n",
    "result_df.fillna(0, inplace= True)\n",
    "result_df.Answer_Cnt = result_df.Answer_Cnt.astype('int64')\n",
    "result_df.Accepted_Answer_Cnt = result_df.Accepted_Answer_Cnt.astype('int64')\n",
    "result_df.Score = result_df.Score.astype('int64')\n",
    "result_df.to_csv('Spreadsheet2_Platform.csv')\n"
   ]
  },
  {
   "cell_type": "code",
   "execution_count": 13,
   "metadata": {},
   "outputs": [
    {
     "output_type": "execute_result",
     "data": {
      "text/plain": [
       "              Question_Cnt  Answer_Cnt  Accepted_Answer_Cnt  ViewCount  \\\n",
       "CreationDate                                                             \n",
       "2008-11-01               0           0                    0          0   \n",
       "2008-12-01               0           0                    0          0   \n",
       "2009-01-01               0           0                    0          0   \n",
       "2009-02-01               1           4                    0       3207   \n",
       "2009-03-01               0           0                    0          0   \n",
       "...                    ...         ...                  ...        ...   \n",
       "2020-01-01               0           0                    0          0   \n",
       "2020-02-01               0           0                    0          0   \n",
       "2020-03-01               1           1                    1         40   \n",
       "2020-04-01               0           0                    0          0   \n",
       "2020-05-01               1           0                    0          8   \n",
       "\n",
       "              FavoriteCount  Score Platform_Name  \n",
       "CreationDate                                      \n",
       "2008-11-01                0      0    Salesforce  \n",
       "2008-12-01                0      0    Salesforce  \n",
       "2009-01-01                0      0    Salesforce  \n",
       "2009-02-01                1     13    Salesforce  \n",
       "2009-03-01                0      0    Salesforce  \n",
       "...                     ...    ...           ...  \n",
       "2020-01-01                0      0         Vinyl  \n",
       "2020-02-01                0      0         Vinyl  \n",
       "2020-03-01                0      0         Vinyl  \n",
       "2020-04-01                0      0         Vinyl  \n",
       "2020-05-01                0      0         Vinyl  \n",
       "\n",
       "[1251 rows x 7 columns]"
      ],
      "text/html": "<div>\n<style scoped>\n    .dataframe tbody tr th:only-of-type {\n        vertical-align: middle;\n    }\n\n    .dataframe tbody tr th {\n        vertical-align: top;\n    }\n\n    .dataframe thead th {\n        text-align: right;\n    }\n</style>\n<table border=\"1\" class=\"dataframe\">\n  <thead>\n    <tr style=\"text-align: right;\">\n      <th></th>\n      <th>Question_Cnt</th>\n      <th>Answer_Cnt</th>\n      <th>Accepted_Answer_Cnt</th>\n      <th>ViewCount</th>\n      <th>FavoriteCount</th>\n      <th>Score</th>\n      <th>Platform_Name</th>\n    </tr>\n    <tr>\n      <th>CreationDate</th>\n      <th></th>\n      <th></th>\n      <th></th>\n      <th></th>\n      <th></th>\n      <th></th>\n      <th></th>\n    </tr>\n  </thead>\n  <tbody>\n    <tr>\n      <th>2008-11-01</th>\n      <td>0</td>\n      <td>0</td>\n      <td>0</td>\n      <td>0</td>\n      <td>0</td>\n      <td>0</td>\n      <td>Salesforce</td>\n    </tr>\n    <tr>\n      <th>2008-12-01</th>\n      <td>0</td>\n      <td>0</td>\n      <td>0</td>\n      <td>0</td>\n      <td>0</td>\n      <td>0</td>\n      <td>Salesforce</td>\n    </tr>\n    <tr>\n      <th>2009-01-01</th>\n      <td>0</td>\n      <td>0</td>\n      <td>0</td>\n      <td>0</td>\n      <td>0</td>\n      <td>0</td>\n      <td>Salesforce</td>\n    </tr>\n    <tr>\n      <th>2009-02-01</th>\n      <td>1</td>\n      <td>4</td>\n      <td>0</td>\n      <td>3207</td>\n      <td>1</td>\n      <td>13</td>\n      <td>Salesforce</td>\n    </tr>\n    <tr>\n      <th>2009-03-01</th>\n      <td>0</td>\n      <td>0</td>\n      <td>0</td>\n      <td>0</td>\n      <td>0</td>\n      <td>0</td>\n      <td>Salesforce</td>\n    </tr>\n    <tr>\n      <th>...</th>\n      <td>...</td>\n      <td>...</td>\n      <td>...</td>\n      <td>...</td>\n      <td>...</td>\n      <td>...</td>\n      <td>...</td>\n    </tr>\n    <tr>\n      <th>2020-01-01</th>\n      <td>0</td>\n      <td>0</td>\n      <td>0</td>\n      <td>0</td>\n      <td>0</td>\n      <td>0</td>\n      <td>Vinyl</td>\n    </tr>\n    <tr>\n      <th>2020-02-01</th>\n      <td>0</td>\n      <td>0</td>\n      <td>0</td>\n      <td>0</td>\n      <td>0</td>\n      <td>0</td>\n      <td>Vinyl</td>\n    </tr>\n    <tr>\n      <th>2020-03-01</th>\n      <td>1</td>\n      <td>1</td>\n      <td>1</td>\n      <td>40</td>\n      <td>0</td>\n      <td>0</td>\n      <td>Vinyl</td>\n    </tr>\n    <tr>\n      <th>2020-04-01</th>\n      <td>0</td>\n      <td>0</td>\n      <td>0</td>\n      <td>0</td>\n      <td>0</td>\n      <td>0</td>\n      <td>Vinyl</td>\n    </tr>\n    <tr>\n      <th>2020-05-01</th>\n      <td>1</td>\n      <td>0</td>\n      <td>0</td>\n      <td>8</td>\n      <td>0</td>\n      <td>0</td>\n      <td>Vinyl</td>\n    </tr>\n  </tbody>\n</table>\n<p>1251 rows × 7 columns</p>\n</div>"
     },
     "metadata": {},
     "execution_count": 13
    }
   ],
   "source": [
    "result_df"
   ]
  },
  {
   "cell_type": "code",
   "execution_count": 25,
   "metadata": {},
   "outputs": [
    {
     "output_type": "execute_result",
     "data": {
      "text/plain": [
       "4774"
      ]
     },
     "metadata": {},
     "execution_count": 25
    }
   ],
   "source": [
    "result_df.Score.sum()"
   ]
  },
  {
   "cell_type": "code",
   "execution_count": 4,
   "metadata": {},
   "outputs": [
    {
     "output_type": "execute_result",
     "data": {
      "text/plain": [
       "933"
      ]
     },
     "metadata": {},
     "execution_count": 4
    }
   ],
   "source": [
    "ttt = so_df[so_df.AnswerCount==0]\n",
    "ttt.AnswerCount\n",
    "len(ttt)"
   ]
  },
  {
   "cell_type": "code",
   "execution_count": null,
   "metadata": {},
   "outputs": [],
   "source": []
  }
 ]
}